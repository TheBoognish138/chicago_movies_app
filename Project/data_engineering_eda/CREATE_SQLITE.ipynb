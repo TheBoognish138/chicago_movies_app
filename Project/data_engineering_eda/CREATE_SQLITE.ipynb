{
 "cells": [
  {
   "cell_type": "code",
   "execution_count": 1,
   "id": "5e43ac68-567a-43e6-8ce5-0f003c8c2ed3",
   "metadata": {},
   "outputs": [],
   "source": [
    "# data science\n",
    "import matplotlib.pyplot as plt\n",
    "import pandas as pd\n",
    "import numpy as np\n",
    "import seaborn as sns\n",
    "import datetime\n",
    "\n",
    "# API\n",
    "import requests\n",
    "import json\n",
    "\n",
    "# Python SQL toolkit and Object Relational Mapper\n",
    "import sqlalchemy\n",
    "from sqlalchemy.ext.automap import automap_base\n",
    "from sqlalchemy.orm import Session\n",
    "from sqlalchemy import create_engine, text, inspect, func\n",
    "\n",
    "import sqlite3\n",
    "import pandas as pd"
   ]
  },
  {
   "cell_type": "code",
   "execution_count": 2,
   "id": "bdf4cbd9-5811-46ac-845a-c8b0ccb88dc6",
   "metadata": {},
   "outputs": [],
   "source": [
    "# Read data from CSV into a DataFrame\n",
    "df = pd.read_csv('resources/clean_park_data.csv')"
   ]
  },
  {
   "cell_type": "code",
   "execution_count": 3,
   "id": "10639850-d4ab-4ddd-8a4d-c80da789acc0",
   "metadata": {},
   "outputs": [
    {
     "data": {
      "text/html": [
       "<div>\n",
       "<style scoped>\n",
       "    .dataframe tbody tr th:only-of-type {\n",
       "        vertical-align: middle;\n",
       "    }\n",
       "\n",
       "    .dataframe tbody tr th {\n",
       "        vertical-align: top;\n",
       "    }\n",
       "\n",
       "    .dataframe thead th {\n",
       "        text-align: right;\n",
       "    }\n",
       "</style>\n",
       "<table border=\"1\" class=\"dataframe\">\n",
       "  <thead>\n",
       "    <tr style=\"text-align: right;\">\n",
       "      <th></th>\n",
       "      <th>title</th>\n",
       "      <th>park</th>\n",
       "      <th>date</th>\n",
       "      <th>rating</th>\n",
       "      <th>cc</th>\n",
       "      <th>latitude</th>\n",
       "      <th>longitude</th>\n",
       "      <th>datayear</th>\n",
       "      <th>day</th>\n",
       "      <th>address</th>\n",
       "      <th>community</th>\n",
       "      <th>geocode_address</th>\n",
       "      <th>datamonth</th>\n",
       "    </tr>\n",
       "  </thead>\n",
       "  <tbody>\n",
       "    <tr>\n",
       "      <th>0</th>\n",
       "      <td>Lego Movie</td>\n",
       "      <td>Austin-Foster Playlot Park</td>\n",
       "      <td>2014-08-08T03:00:00Z</td>\n",
       "      <td>PG</td>\n",
       "      <td>No</td>\n",
       "      <td>41.975941</td>\n",
       "      <td>-87.778908</td>\n",
       "      <td>2014</td>\n",
       "      <td>Fri</td>\n",
       "      <td>6020 W Foster Ave Chicago, IL 60630</td>\n",
       "      <td>JEFFERSON PARK</td>\n",
       "      <td>6020 W Foster Ave Chicago, IL 60630</td>\n",
       "      <td>8</td>\n",
       "    </tr>\n",
       "    <tr>\n",
       "      <th>1</th>\n",
       "      <td>The Smurfs 2</td>\n",
       "      <td>Brooks Park</td>\n",
       "      <td>2014-07-19T03:00:00Z</td>\n",
       "      <td>PG</td>\n",
       "      <td>No</td>\n",
       "      <td>42.010281</td>\n",
       "      <td>-87.806686</td>\n",
       "      <td>2014</td>\n",
       "      <td>Sat</td>\n",
       "      <td>7100 N Harlem Ave Chicago, IL 60631</td>\n",
       "      <td>EDISON PARK</td>\n",
       "      <td>7100 N Harlem Ave Chicago, IL 60631</td>\n",
       "      <td>7</td>\n",
       "    </tr>\n",
       "    <tr>\n",
       "      <th>2</th>\n",
       "      <td>Delivery Man</td>\n",
       "      <td>Dunham Park</td>\n",
       "      <td>2014-06-14T04:00:00Z</td>\n",
       "      <td>PG-13</td>\n",
       "      <td>No</td>\n",
       "      <td>41.965981</td>\n",
       "      <td>-87.781975</td>\n",
       "      <td>2014</td>\n",
       "      <td>Sat</td>\n",
       "      <td>4638 N. Melvina Ave. Chicago IL 60630</td>\n",
       "      <td>PORTAGE PARK</td>\n",
       "      <td>4638 N. Melvina Ave. Chicago IL 60630</td>\n",
       "      <td>6</td>\n",
       "    </tr>\n",
       "    <tr>\n",
       "      <th>3</th>\n",
       "      <td>A League of Their Own</td>\n",
       "      <td>Edgebrook Park</td>\n",
       "      <td>2014-06-08T02:45:00Z</td>\n",
       "      <td>PG</td>\n",
       "      <td>No</td>\n",
       "      <td>41.999466</td>\n",
       "      <td>-87.762024</td>\n",
       "      <td>2014</td>\n",
       "      <td>Sun</td>\n",
       "      <td>6525 N. Hiawatha Ave. Chicago IL 60646</td>\n",
       "      <td>FOREST GLEN</td>\n",
       "      <td>6525 N. Hiawatha Ave. Chicago IL 60646</td>\n",
       "      <td>6</td>\n",
       "    </tr>\n",
       "    <tr>\n",
       "      <th>4</th>\n",
       "      <td>Lego Movie</td>\n",
       "      <td>Olympia Park</td>\n",
       "      <td>2014-06-21T03:00:00Z</td>\n",
       "      <td>PG</td>\n",
       "      <td>No</td>\n",
       "      <td>41.999702</td>\n",
       "      <td>-87.814987</td>\n",
       "      <td>2014</td>\n",
       "      <td>Sat</td>\n",
       "      <td>6566 N. Avondale Ave. Chicago IL 60631</td>\n",
       "      <td>EDISON PARK</td>\n",
       "      <td>6566 N. Avondale Ave. Chicago IL 60631</td>\n",
       "      <td>6</td>\n",
       "    </tr>\n",
       "  </tbody>\n",
       "</table>\n",
       "</div>"
      ],
      "text/plain": [
       "                   title                        park                  date  \\\n",
       "0             Lego Movie  Austin-Foster Playlot Park  2014-08-08T03:00:00Z   \n",
       "1           The Smurfs 2                 Brooks Park  2014-07-19T03:00:00Z   \n",
       "2           Delivery Man                 Dunham Park  2014-06-14T04:00:00Z   \n",
       "3  A League of Their Own              Edgebrook Park  2014-06-08T02:45:00Z   \n",
       "4             Lego Movie                Olympia Park  2014-06-21T03:00:00Z   \n",
       "\n",
       "  rating  cc   latitude  longitude  datayear  day  \\\n",
       "0     PG  No  41.975941 -87.778908      2014  Fri   \n",
       "1     PG  No  42.010281 -87.806686      2014  Sat   \n",
       "2  PG-13  No  41.965981 -87.781975      2014  Sat   \n",
       "3     PG  No  41.999466 -87.762024      2014  Sun   \n",
       "4     PG  No  41.999702 -87.814987      2014  Sat   \n",
       "\n",
       "                                  address       community  \\\n",
       "0     6020 W Foster Ave Chicago, IL 60630  JEFFERSON PARK   \n",
       "1     7100 N Harlem Ave Chicago, IL 60631     EDISON PARK   \n",
       "2   4638 N. Melvina Ave. Chicago IL 60630    PORTAGE PARK   \n",
       "3  6525 N. Hiawatha Ave. Chicago IL 60646     FOREST GLEN   \n",
       "4  6566 N. Avondale Ave. Chicago IL 60631     EDISON PARK   \n",
       "\n",
       "                          geocode_address  datamonth  \n",
       "0     6020 W Foster Ave Chicago, IL 60630          8  \n",
       "1     7100 N Harlem Ave Chicago, IL 60631          7  \n",
       "2   4638 N. Melvina Ave. Chicago IL 60630          6  \n",
       "3  6525 N. Hiawatha Ave. Chicago IL 60646          6  \n",
       "4  6566 N. Avondale Ave. Chicago IL 60631          6  "
      ]
     },
     "execution_count": 3,
     "metadata": {},
     "output_type": "execute_result"
    }
   ],
   "source": [
    "df.head()"
   ]
  },
  {
   "cell_type": "code",
   "execution_count": 4,
   "id": "5a21f7da-c9ff-4a49-9069-efd5ecfda054",
   "metadata": {},
   "outputs": [],
   "source": [
    "engine = create_engine('sqlite:///CLEAN_PARK_DATA.sqlite')"
   ]
  },
  {
   "cell_type": "code",
   "execution_count": 5,
   "id": "19c9172d-1b20-4138-80d3-4db40100c1ef",
   "metadata": {},
   "outputs": [
    {
     "data": {
      "text/plain": [
       "1096"
      ]
     },
     "execution_count": 5,
     "metadata": {},
     "output_type": "execute_result"
    }
   ],
   "source": [
    "df.to_sql('showings', engine, index=False, if_exists='replace')"
   ]
  },
  {
   "cell_type": "code",
   "execution_count": 6,
   "id": "7b2bafd2-b47f-4f8b-87b9-b61924264d13",
   "metadata": {},
   "outputs": [
    {
     "name": "stdout",
     "output_type": "stream",
     "text": [
      "showings\n",
      "-----------\n",
      "title TEXT\n",
      "park TEXT\n",
      "date TEXT\n",
      "rating TEXT\n",
      "cc TEXT\n",
      "latitude FLOAT\n",
      "longitude FLOAT\n",
      "datayear BIGINT\n",
      "day TEXT\n",
      "address TEXT\n",
      "community TEXT\n",
      "geocode_address TEXT\n",
      "datamonth BIGINT\n",
      "\n"
     ]
    }
   ],
   "source": [
    "# INSPECT to confirm existence\n",
    "\n",
    "# Create the inspector and connect it to the engine\n",
    "inspector_gadget = inspect(engine)\n",
    "\n",
    "# Collect the names of tables within the database\n",
    "tables = inspector_gadget.get_table_names()\n",
    "\n",
    "# print metadata for each table\n",
    "for table in tables:\n",
    "    print(table)\n",
    "    print(\"-----------\")\n",
    "    \n",
    "    # get columns\n",
    "    columns = inspector_gadget.get_columns(table)\n",
    "    for column in columns:\n",
    "        print(column[\"name\"], column[\"type\"])\n",
    "\n",
    "    print()"
   ]
  },
  {
   "cell_type": "code",
   "execution_count": 7,
   "id": "f8edc80f-b4b5-4259-8ead-1834583106f3",
   "metadata": {},
   "outputs": [],
   "source": [
    "# close the engine\n",
    "engine.dispose()"
   ]
  },
  {
   "cell_type": "code",
   "execution_count": 8,
   "id": "d6145eb2-e84e-4436-8a95-d51f03c7f8d0",
   "metadata": {},
   "outputs": [],
   "source": [
    "#map filters \""
   ]
  }
 ],
 "metadata": {
  "kernelspec": {
   "display_name": "Python 3 (ipykernel)",
   "language": "python",
   "name": "python3"
  },
  "language_info": {
   "codemirror_mode": {
    "name": "ipython",
    "version": 3
   },
   "file_extension": ".py",
   "mimetype": "text/x-python",
   "name": "python",
   "nbconvert_exporter": "python",
   "pygments_lexer": "ipython3",
   "version": "3.10.14"
  }
 },
 "nbformat": 4,
 "nbformat_minor": 5
}
