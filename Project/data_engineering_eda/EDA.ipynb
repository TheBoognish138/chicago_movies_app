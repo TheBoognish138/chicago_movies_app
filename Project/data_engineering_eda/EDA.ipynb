{
 "cells": [
  {
   "cell_type": "code",
   "execution_count": 1,
   "id": "a3fec44c-f83f-4d35-8849-b5f9f84d991f",
   "metadata": {},
   "outputs": [],
   "source": [
    "# data science\n",
    "import matplotlib.pyplot as plt\n",
    "import pandas as pd\n",
    "import numpy as np\n",
    "import seaborn as sns\n",
    "import datetime\n",
    "\n",
    "# API\n",
    "import requests\n",
    "import json\n",
    "\n",
    "# Python SQL toolkit and Object Relational Mapper\n",
    "import sqlalchemy\n",
    "from sqlalchemy.ext.automap import automap_base\n",
    "from sqlalchemy.orm import Session\n",
    "from sqlalchemy import create_engine, text, inspect, func"
   ]
  },
  {
   "cell_type": "code",
   "execution_count": 2,
   "id": "0ac8687e-86a9-4fe2-9598-4bfde5ab1a6c",
   "metadata": {},
   "outputs": [],
   "source": [
    " # Create engine using the `CLEAN_PARK_DATA.sqlite` database file\n",
    "engine = create_engine(\"sqlite:///CLEAN_PARK_DATA.sqlite\")"
   ]
  },
  {
   "cell_type": "code",
   "execution_count": 3,
   "id": "8e1380ad-cb94-4761-88f6-d799ee95831d",
   "metadata": {},
   "outputs": [
    {
     "name": "stdout",
     "output_type": "stream",
     "text": [
      "showings\n",
      "-----------\n",
      "title TEXT\n",
      "park TEXT\n",
      "date TEXT\n",
      "rating TEXT\n",
      "cc TEXT\n",
      "location.latitude FLOAT\n",
      "location.longitude FLOAT\n",
      "datayear BIGINT\n",
      "day TEXT\n",
      "address TEXT\n",
      "community TEXT\n",
      "geocode_address TEXT\n",
      "datamonth BIGINT\n",
      "\n"
     ]
    }
   ],
   "source": [
    "# INSPECT to confirm existence\n",
    "\n",
    "# Create the inspector and connect it to the engine\n",
    "inspector = inspect(engine)\n",
    "\n",
    "# Collect the names of tables within the database\n",
    "tables = inspector.get_table_names()\n",
    "\n",
    "# print metadata for each table\n",
    "for table in tables:\n",
    "    print(table)\n",
    "    print(\"-----------\")\n",
    "    \n",
    "    # get columns\n",
    "    columns = inspector.get_columns(table)\n",
    "    for column in columns:\n",
    "        print(column[\"name\"], column[\"type\"])\n",
    "\n",
    "    print()"
   ]
  },
  {
   "cell_type": "code",
   "execution_count": 4,
   "id": "a237a966-d94d-47c1-8804-09edb9eab2a5",
   "metadata": {},
   "outputs": [
    {
     "data": {
      "text/html": [
       "<div>\n",
       "<style scoped>\n",
       "    .dataframe tbody tr th:only-of-type {\n",
       "        vertical-align: middle;\n",
       "    }\n",
       "\n",
       "    .dataframe tbody tr th {\n",
       "        vertical-align: top;\n",
       "    }\n",
       "\n",
       "    .dataframe thead th {\n",
       "        text-align: right;\n",
       "    }\n",
       "</style>\n",
       "<table border=\"1\" class=\"dataframe\">\n",
       "  <thead>\n",
       "    <tr style=\"text-align: right;\">\n",
       "      <th></th>\n",
       "      <th>Plays</th>\n",
       "      <th>Movie</th>\n",
       "    </tr>\n",
       "  </thead>\n",
       "  <tbody>\n",
       "    <tr>\n",
       "      <th>0</th>\n",
       "      <td>26</td>\n",
       "      <td>The Lego Movie</td>\n",
       "    </tr>\n",
       "    <tr>\n",
       "      <th>1</th>\n",
       "      <td>26</td>\n",
       "      <td>Jumanji: Welcome to the Jungle</td>\n",
       "    </tr>\n",
       "    <tr>\n",
       "      <th>2</th>\n",
       "      <td>22</td>\n",
       "      <td>Sing</td>\n",
       "    </tr>\n",
       "    <tr>\n",
       "      <th>3</th>\n",
       "      <td>22</td>\n",
       "      <td>Coco</td>\n",
       "    </tr>\n",
       "  </tbody>\n",
       "</table>\n",
       "</div>"
      ],
      "text/plain": [
       "   Plays                           Movie\n",
       "0     26                  The Lego Movie\n",
       "1     26  Jumanji: Welcome to the Jungle\n",
       "2     22                            Sing\n",
       "3     22                            Coco"
      ]
     },
     "execution_count": 4,
     "metadata": {},
     "output_type": "execute_result"
    }
   ],
   "source": [
    "#user selection, FILTER clause\n",
    "user_selection = \"Most Loved\" #default selection\n",
    "if user_selection == \"Most Loved\":\n",
    "    filter_clause = \"COUNT(title) >= 20\"\n",
    "elif user_selection == \"Highly Acclaimed\":\n",
    "    filter_clause = \"COUNT(title) >= 15 and COUNT(title) < 20\"\n",
    "elif user_selection == \"Popular\":\n",
    "    filter_clause = \"COUNT(title) >= 10 and COUNT(title) <15\"\n",
    "elif user_selection == \"Cult Favorites\":\n",
    "    filter_clause =\"COUNT(title) >= 2 and COUNT(title) <10\"\n",
    "else:\n",
    "    user_selection == \"One Timers\"\n",
    "    filter_clause = \"COUNT(title) = 1\"\n",
    "#query\n",
    "query_movies = f\"\"\"\n",
    "    SELECT\n",
    "         Count(title) AS \"Plays\", title AS \"Movie\"\n",
    "    FROM\n",
    "        showings\n",
    "    GROUP BY\n",
    "        Movie\n",
    "    HAVING\n",
    "        {filter_clause}\n",
    "    ORDER BY\n",
    "    \tPlays DESC;\n",
    "    \"\"\"\n",
    "# execute query\n",
    "df = pd.read_sql(text(query_movies), con=engine)\n",
    "df.head(15)"
   ]
  },
  {
   "cell_type": "code",
   "execution_count": null,
   "id": "a003f283-b7ec-4d5e-8213-f5b0a23fd4aa",
   "metadata": {},
   "outputs": [],
   "source": []
  }
 ],
 "metadata": {
  "kernelspec": {
   "display_name": "Python 3 (ipykernel)",
   "language": "python",
   "name": "python3"
  },
  "language_info": {
   "codemirror_mode": {
    "name": "ipython",
    "version": 3
   },
   "file_extension": ".py",
   "mimetype": "text/x-python",
   "name": "python",
   "nbconvert_exporter": "python",
   "pygments_lexer": "ipython3",
   "version": "3.10.14"
  }
 },
 "nbformat": 4,
 "nbformat_minor": 5
}
